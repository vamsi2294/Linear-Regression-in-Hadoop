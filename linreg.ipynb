{
 "metadata": {
  "name": ""
 },
 "nbformat": 3,
 "nbformat_minor": 0,
 "worksheets": [
  {
   "cells": [
    {
     "cell_type": "heading",
     "level": 1,
     "metadata": {},
     "source": [
      "Linear Regression"
     ]
    },
    {
     "cell_type": "code",
     "collapsed": false,
     "input": [
      "    #import Functions and get the spark Context\n",
      "import findspark\n",
      "findspark.init('/usr/lib/spark/')\n",
      "from pyspark import SparkContext \n",
      "import sys\n",
      "import numpy as np\n",
      "sc = SparkContext(appName=\"LinearRegression\")"
     ],
     "language": "python",
     "metadata": {},
     "outputs": [],
     "prompt_number": 1
    },
    {
     "cell_type": "code",
     "collapsed": false,
     "input": [
      "# Input yx file has y_i as the first element of each line \n",
      "# and the remaining elements constitute x_i\n",
      "yxlines = sc.textFile('yxlin.csv')\\\n",
      "            .map(lambda line:line.split(','))\n",
      "    \n",
      "print \"first 5 lines: \", yxlines.take(5)"
     ],
     "language": "python",
     "metadata": {},
     "outputs": [
      {
       "output_type": "stream",
       "stream": "stdout",
       "text": [
        "first 5 lines:  "
       ]
      },
      {
       "output_type": "stream",
       "stream": "stdout",
       "text": [
        "[[u'0.3629', u'0.0657'], [u'-0.1082', u'-0.2985'], [u'2.3801', u'0.8780'], [u'2.1829', u'0.7519'], [u'0.5961', u'0.1003']]\n"
       ]
      }
     ],
     "prompt_number": 2
    },
    {
     "cell_type": "heading",
     "level": 3,
     "metadata": {},
     "source": [
      "Definig the function to create matrices for every rdd\n"
     ]
    },
    {
     "cell_type": "code",
     "collapsed": false,
     "input": [
      "def Xmatrix(line):\n",
      "\tlines=line\n",
      "\tlines[0]=1\n",
      "\tX = np.array([lines], dtype=float)   \t\t\t# Preparing X matrix with only x values\n",
      "\tXT = X.transpose()                   \t\t\t# Obtaining the Transpose matrix for X\n",
      "\treturn X,XT"
     ],
     "language": "python",
     "metadata": {},
     "outputs": [],
     "prompt_number": 3
    },
    {
     "cell_type": "heading",
     "level": 3,
     "metadata": {},
     "source": [
      "Definig the function to calculate XTX for every rdd"
     ]
    },
    {
     "cell_type": "code",
     "collapsed": false,
     "input": [
      "def calXTX(line):\n",
      "\tx,y=Xmatrix(line)\n",
      "\treturn (np.dot(y, x))             \t\t\t\t# dot product of XT * X"
     ],
     "language": "python",
     "metadata": {},
     "outputs": [],
     "prompt_number": 4
    },
    {
     "cell_type": "code",
     "collapsed": false,
     "input": [
      "#\n",
      "# Implementation of XTX on the evry rdd using Map function \n",
      "#\n",
      "# Reduce method to get the matrix\n",
      "#\t\n",
      "XTX = yxlines.map(calXTX)\\\n",
      "\t\t  \t\t  .reduce(lambda i, j: np.add(i, j)) \n",
      "XIN = np.linalg.inv(XTX) "
     ],
     "language": "python",
     "metadata": {},
     "outputs": [],
     "prompt_number": 5
    },
    {
     "cell_type": "heading",
     "level": 3,
     "metadata": {},
     "source": [
      "Defining the XTY function \n",
      "\t"
     ]
    },
    {
     "cell_type": "code",
     "collapsed": false,
     "input": [
      "def calXTY(line):\n",
      "\treturn (float(line[0])*Xmatrix(line)[1])        # Calculating XT * Y\n",
      "\n",
      "XTY = yxlines.map(calXTY)\\\n",
      "\t\t\t .reduce(lambda i, j: np.add(i, j))     # Reduce method to get  matrix XT * Y"
     ],
     "language": "python",
     "metadata": {},
     "outputs": [],
     "prompt_number": 6
    },
    {
     "cell_type": "code",
     "collapsed": false,
     "input": [
      "beta = np.dot(XIN, XTY)\t\t\t\t\t\t\t\t# Calculating the Beta using least mean square error\n",
      "\t"
     ],
     "language": "python",
     "metadata": {},
     "outputs": [],
     "prompt_number": 7
    },
    {
     "cell_type": "code",
     "collapsed": false,
     "input": [
      "# Print the linear regression coefficients in desired output format\n",
      "print (\"beta: \")\n",
      "for coeff in beta:\n",
      "    print (coeff)\n",
      "sc.stop()\n"
     ],
     "language": "python",
     "metadata": {},
     "outputs": [
      {
       "output_type": "stream",
       "stream": "stdout",
       "text": [
        "beta: \n",
        "[ 0.52321075]\n",
        "[ 2.05475603]\n"
       ]
      }
     ],
     "prompt_number": 8
    }
   ],
   "metadata": {}
  }
 ]
}